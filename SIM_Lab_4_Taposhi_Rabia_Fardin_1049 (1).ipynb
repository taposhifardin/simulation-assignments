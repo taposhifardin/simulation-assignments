{
  "nbformat": 4,
  "nbformat_minor": 0,
  "metadata": {
    "colab": {
      "provenance": []
    },
    "kernelspec": {
      "name": "python3",
      "display_name": "Python 3"
    },
    "language_info": {
      "name": "python"
    }
  },
  "cells": [
    {
      "cell_type": "code",
      "source": [
        "import random  # to create random numbers\n",
        "\n",
        "def estimate_pi(num_points):\n",
        "    inside = 0  # how many points inside the circle\n",
        "\n",
        "    for _ in range(num_points):\n",
        "        x = random.random()  # pick a random number from 0 to 1\n",
        "        y = random.random()\n",
        "        if x*x + y*y <= 1:  # Corrected the semicolon to a colon\n",
        "            inside += 1  # it's inside the circle\n",
        "\n",
        "    pi = 4 * inside / num_points\n",
        "    print(\"Estimated pi for\", num_points, \"points is:\", pi)\n",
        "\n",
        "# Try this with different number of points\n",
        "estimate_pi(1000)\n",
        "estimate_pi(5000)\n",
        "estimate_pi(10000)"
      ],
      "metadata": {
        "colab": {
          "base_uri": "https://localhost:8080/"
        },
        "id": "SOPCJ0nzpjMZ",
        "outputId": "dff3d930-cf65-4976-b179-8089f8643521"
      },
      "execution_count": 2,
      "outputs": [
        {
          "output_type": "stream",
          "name": "stdout",
          "text": [
            "Estimated pi for 1000 points is: 3.2\n",
            "Estimated pi for 5000 points is: 3.1544\n",
            "Estimated pi for 10000 points is: 3.1332\n"
          ]
        }
      ]
    },
    {
      "cell_type": "code",
      "execution_count": 5,
      "metadata": {
        "colab": {
          "base_uri": "https://localhost:8080/"
        },
        "id": "CATzQkEOpg9s",
        "outputId": "5666760a-1c43-4d38-9298-32a8c35ae2b1"
      },
      "outputs": [
        {
          "output_type": "stream",
          "name": "stdout",
          "text": [
            "Range Used   | Total Points  | Points Inside  | Estimated π  | Error     \n",
            "---------------------------------------------------------------------------\n",
            "4.90         | 2600          | 2044           | 3.144615     | 0.003023  \n",
            "4.90         | 5200          | 4105           | 3.157692     | 0.016100  \n",
            "4.90         | 7800          | 6098           | 3.127179     | 0.014413  \n",
            "4.90         | 10400         | 8163           | 3.139615     | 0.001977  \n",
            "4.90         | 13000         | 10171          | 3.129538     | 0.012054  \n"
          ]
        }
      ],
      "source": [
        "import random\n",
        "import numpy as np\n",
        "import math\n",
        "\n",
        "# ----- CONFIG -----\n",
        "R = 49  # Last two digits of student ID\n",
        "r = R / 10\n",
        "name = \"TaposhiFardin\"  # Your full name with no spaces\n",
        "num_letters = len(name)\n",
        "min_points = 200 * num_letters\n",
        "\n",
        "# Function to check if point is inside circle of radius r\n",
        "def is_inside_circle(x, y, radius):\n",
        "    return x**2 + y**2 <= radius**2\n",
        "\n",
        "# Function to estimate pi\n",
        "def estimate_pi(num_points, radius):\n",
        "    inside = 0\n",
        "\n",
        "    for i in range(num_points):\n",
        "        # Use two different methods\n",
        "        if i % 2 == 0:\n",
        "            # random.uniform\n",
        "            x = random.uniform(-radius, radius)\n",
        "            y = random.uniform(-radius, radius)\n",
        "        else:\n",
        "            # numpy.random.rand scaled to (-r, r)\n",
        "            x = (np.random.rand() * 2 - 1) * radius\n",
        "            y = (np.random.rand() * 2 - 1) * radius\n",
        "\n",
        "        if is_inside_circle(x, y, radius):\n",
        "            inside += 1\n",
        "\n",
        "    pi_est = 4 * inside / num_points\n",
        "    error = abs(pi_est - math.pi)\n",
        "    return inside, pi_est, error\n",
        "\n",
        "# ----- MAIN LOOP -----\n",
        "print(f\"{'Range Used':<12} | {'Total Points':<13} | {'Points Inside':<14} | {'Estimated π':<12} | {'Error':<10}\")\n",
        "print(\"-\" * 75)\n",
        "\n",
        "for multiplier in range(1, 6):  # 5 runs\n",
        "    total_points = min_points * multiplier\n",
        "    inside, pi_est, error = estimate_pi(total_points, r)\n",
        "    print(f\"{r:<12.2f} | {total_points:<13} | {inside:<14} | {pi_est:<12.6f} | {error:<10.6f}\")\n"
      ]
    }
  ]
}